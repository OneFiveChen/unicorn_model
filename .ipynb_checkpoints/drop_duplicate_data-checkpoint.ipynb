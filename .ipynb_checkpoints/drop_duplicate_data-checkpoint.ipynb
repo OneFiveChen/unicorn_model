{
 "cells": [
  {
   "cell_type": "code",
   "execution_count": 5,
   "id": "26e44c0e",
   "metadata": {},
   "outputs": [
    {
     "name": "stdout",
     "output_type": "stream",
     "text": [
      "/Users/chenjiali/workplace/trade\n"
     ]
    }
   ],
   "source": [
    "import pandas as pd\n",
    "import glob\n",
    "import os\n",
    "csv_files = glob.glob(os.path.join(os.getcwd(),\"data/BINANCE_AMPUSDT_60/*.csv\"))"
   ]
  },
  {
   "cell_type": "code",
   "execution_count": 6,
   "id": "71b6e226",
   "metadata": {},
   "outputs": [
    {
     "name": "stdout",
     "output_type": "stream",
     "text": [
      "['/Users/chenjiali/workplace/trade/data/BINANCE_AMPUSDT_60/BINANCE_AMPUSDT_60_9.csv', '/Users/chenjiali/workplace/trade/data/BINANCE_AMPUSDT_60/BINANCE_AMPUSDT_60.csv', '/Users/chenjiali/workplace/trade/data/BINANCE_AMPUSDT_60/BINANCE_AMPUSDT_60_3.csv', '/Users/chenjiali/workplace/trade/data/BINANCE_AMPUSDT_60/BINANCE_AMPUSDT_60_6.csv']\n"
     ]
    }
   ],
   "source": [
    "print(csv_files)"
   ]
  },
  {
   "cell_type": "code",
   "execution_count": 29,
   "id": "b5d243a9",
   "metadata": {},
   "outputs": [
    {
     "name": "stdout",
     "output_type": "stream",
     "text": [
      "每根 K线的时间间隔是：0 days 01:00:00\n",
      "[array([3.5720000000000e-03, 3.6010000000000e-03, 3.5570000000000e-03,\n",
      "       3.5680000000000e-03, 8.2255510000000e+06, 3.5384068614065e-03,\n",
      "       3.6581849339162e-03, 3.5710000000000e-03, 3.5820000000000e-03,\n",
      "       3.5570000000000e-03, 3.5780000000000e-03, 4.3607960000000e+06,\n",
      "       3.5490550431829e-03, 3.6630901349361e-03, 3.5810000000000e-03,\n",
      "       3.6040000000000e-03, 3.5690000000000e-03, 3.5990000000000e-03,\n",
      "       3.3161670000000e+06, 3.5557581279536e-03, 3.6642089576713e-03,\n",
      "       3.5980000000000e-03, 3.6120000000000e-03, 3.5790000000000e-03,\n",
      "       3.6000000000000e-03, 9.1453840000000e+06, 3.5597001547132e-03,\n",
      "       3.6627640769975e-03, 3.5960000000000e-03, 3.6140000000000e-03,\n",
      "       3.5920000000000e-03, 3.6010000000000e-03, 3.7161330000000e+06,\n",
      "       3.5604800368968e-03, 3.6583413795495e-03, 1.0000000000000e+00])]\n",
      "     open_1    high_1     low_1   close_1   volume_1    plot_1  plot.1_1  \\\n",
      "0  0.003572  0.003601  0.003557  0.003568  8225551.0  0.003538  0.003658   \n",
      "\n",
      "     open_2    high_2     low_2  ...   plot_4  plot.1_4    open_5    high_5  \\\n",
      "0  0.003571  0.003582  0.003557  ...  0.00356  0.003663  0.003596  0.003614   \n",
      "\n",
      "      low_5   close_5   volume_5   plot_5  plot.1_5  profit_label  \n",
      "0  0.003592  0.003601  3716133.0  0.00356  0.003658           1.0  \n",
      "\n",
      "[1 rows x 36 columns]\n"
     ]
    }
   ],
   "source": [
    "import pandas as pd \n",
    "import numpy as np\n",
    "import os\n",
    "\n",
    "pd.set_option('display.float_format', lambda x: '%.16f' % x)\n",
    "\n",
    "# 数据处理地址配置\n",
    "pwd = os.getcwd()\n",
    "data_dir = \"data/BINANCE_AMPUSDT_60\"\n",
    "kline_df = pd.read_csv(os.path.join(pwd, data_dir, \"merged_base_data.csv\"))\n",
    "trade_df = pd.read_csv(os.path.join(pwd, data_dir, \"trade_data.csv\"))\n",
    "\n",
    "# 需要配置的数据项目\n",
    "titles = ['open', 'high', 'low', 'close', 'Volume', 'Plot', 'Plot.1']\n",
    "k_num = 5\n",
    "\n",
    "kline_df['time'] = pd.to_datetime(kline_df['time'])\n",
    "trade_df['日期/时间'] = pd.to_datetime(trade_df['日期/时间'])\n",
    "\n",
    "kline_df = kline_df.sort_values(by='time')\n",
    "trade_df = trade_df.sort_values(by='日期/时间')\n",
    "\n",
    "# 计算 K线的时间间隔\n",
    "kline_df['time_diff'] = kline_df['time'].diff()\n",
    "kline_period = kline_df['time_diff'].dropna().iloc[0]  # 获取第一个非 NaT 的时间间隔\n",
    "print(f\"每根 K线的时间间隔是：{kline_period}\")\n",
    "\n",
    "# 根据trade匹配对应的k线基础数据\n",
    "def get_previous_k_lines(trade_timestamp, n=5):\n",
    "    end_time = trade_timestamp\n",
    "    start_time = end_time - n * kline_period\n",
    "    subset = kline_df[(kline_df['time'] > start_time) & (kline_df['time'] <= end_time)]\n",
    "    if len(subset) == n:\n",
    "        return subset[titles].values.flatten()\n",
    "    else:\n",
    "        return np.nan * np.ones(n * len(titles))\n",
    "\n",
    "# 暂时构造为前5根k线，以及对应的band值\n",
    "features = []\n",
    "for index, trade_row in trade_df.iterrows():\n",
    "    # 只读取买入的数据行\n",
    "    # 交易 #\t类型\t信号\t日期/时间\t价格 USDT\t合约\t获利 USDT\t获利 %\t累计获利 USDT\t累计获利 %\t最大交易获利 USDT\t最大交易获利 %\t交易亏损 USDT\t交易亏损 %\n",
    "    # 393\t多头进场\tl\t2024-12-13 04:00\t0.009808\t10195.758\t2.06\t2.06\t363.81\t0.45\t2.06\t2.06\t1.57\t1.57\n",
    "    if trade_row['信号'] != 'l': \n",
    "        continue\n",
    "    trade_timestamp = trade_row['日期/时间']\n",
    "    kline_features = get_previous_k_lines(trade_timestamp, k_num)\n",
    "    if not np.isnan(kline_features).any():\n",
    "        profit = trade_row[['获利 USDT']].values\n",
    "        profit_label = np.where(profit > 0, 1, 0)\n",
    "        features.append(np.concatenate([kline_features, profit_label]))\n",
    "    else:\n",
    "        features.append([np.nan] * (len(titles) * k_num + 1)) #如果缺少 K线数据，填充 NaN\n",
    "    break\n",
    "       \n",
    "print(features)\n",
    "# 构建DataFrame\n",
    "cols = []\n",
    "for i in range(1, 6):\n",
    "    cols.extend([f'open_{i}', f'high_{i}', f'low_{i}', f'close_{i}', f'volume_{i}', f'plot_{i}', f'plot.1_{i}'])\n",
    "cols.append('profit_label')\n",
    "\n",
    "features_df = pd.DataFrame(features, columns=cols)\n",
    "print(features_df.head(10))"
   ]
  },
  {
   "cell_type": "code",
   "execution_count": null,
   "id": "eefc33bf",
   "metadata": {},
   "outputs": [],
   "source": []
  }
 ],
 "metadata": {
  "kernelspec": {
   "display_name": "python(trade)",
   "language": "python",
   "name": "trade"
  },
  "language_info": {
   "codemirror_mode": {
    "name": "ipython",
    "version": 3
   },
   "file_extension": ".py",
   "mimetype": "text/x-python",
   "name": "python",
   "nbconvert_exporter": "python",
   "pygments_lexer": "ipython3",
   "version": "3.8.20"
  }
 },
 "nbformat": 4,
 "nbformat_minor": 5
}
